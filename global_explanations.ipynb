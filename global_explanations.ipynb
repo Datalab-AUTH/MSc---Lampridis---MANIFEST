{
 "cells": [
  {
   "cell_type": "code",
   "execution_count": null,
   "metadata": {
    "pycharm": {
     "name": "#%%\n"
    }
   },
   "outputs": [],
   "source": [
    "import pandas as pd\n",
    "import joblib\n",
    "!pip install eli5\n",
    "import eli5\n",
    "import matplotlib.pyplot as plt\n",
    "from eli5.sklearn import PermutationImportance"
   ]
  },
  {
   "cell_type": "code",
   "execution_count": null,
   "metadata": {
    "pycharm": {
     "is_executing": true,
     "name": "#%%\n"
    }
   },
   "outputs": [],
   "source": [
    "import fake_news_spreader_feature_extraction as feature_extraction\n",
    "from fake_news_spreader_feature_extraction import cleanPunc, clean_relics\n",
    "\n",
    "df = pd.read_csv(\"scaled_final_complete_features_with_labels_and_ids\", sep=\",\", encoding=\"utf8\")\n",
    "\n",
    "data_tfidf = df[[str(x) for x in range(1000)]]\n",
    "data_readability = df[\n",
    "    ['avg_word_count', 'emoji_count', 'slang_count', 'capitalized_count', 'full_capitalized_count',\n",
    "     'retweets_count', 'user_mentions_count', 'hashtags_count', 'url_count']]\n",
    "data_sentiment = df[\n",
    "    ['anger', 'fear', 'joy', 'sadness', 'negation', 'vader_compound_score', 'textblob_polarity_score']]\n",
    "data_personality = df[['extraversion', 'avoidance', 'conscientiousness', 'openness', 'neuroticism',\n",
    "                       'agreeableness', 'anxiety']]\n",
    "data_gender = df[['gender']]\n",
    "data_liwc = df[['Analytic', 'Clout', 'Authentic', 'Tone']]\n",
    "data_ground_truth = df[['ground_truth']]\n",
    "\n",
    "features = list()\n",
    "features.append([data_tfidf, data_ground_truth])\n",
    "# features.append([data_readability, data_sentiment, data_personality, data_gender, data_liwc, data_ground_truth])\n",
    "# features.append([data_tfidf, data_readability, data_sentiment, data_personality, data_gender, data_ground_truth])\n",
    "\n",
    "for feature_combination in features:\n",
    "    features = pd.concat([i for i in feature_combination], axis=1)\n",
    "\n",
    "    X = features.drop(['ground_truth'], axis=1).reset_index(drop=True)\n",
    "    y = features[['ground_truth']].values.ravel()\n",
    "\n",
    "    print(X)\n",
    "    print(y)"
   ]
  },
  {
   "cell_type": "code",
   "execution_count": null,
   "metadata": {
    "pycharm": {
     "is_executing": true,
     "name": "#%%\n"
    },
    "scrolled": true
   },
   "outputs": [],
   "source": [
    "filename = \"classifiers/fake_news/Gradient Boosting_explanations_tfidf_0.7.sav\"\n",
    "model = joblib.load(filename)\n",
    "\n",
    "vectorizer = joblib.load(\"tfidf_fake_news.pkl\", 'rb')\n",
    "print(vectorizer.vocabulary_)\n",
    "\n",
    "y_predicted = model.predict(X.values)\n",
    "\n",
    "!pip install shap\n",
    "import shap\n",
    "\n",
    "# load JS visualization code to notebook\n",
    "shap.initjs()\n",
    "\n",
    "shap_explainer = shap.TreeExplainer(model)\n",
    "shap_values = shap_explainer.shap_values(X)\n",
    "\n",
    "print('Expected Value: ', shap_explainer.expected_value)\n",
    "shap.summary_plot(shap_values[1], X, plot_type=\"bar\", feature_names=vectorizer.vocabulary_)"
   ]
  },
  {
   "cell_type": "code",
   "execution_count": null,
   "metadata": {
    "pycharm": {
     "is_executing": true,
     "name": "#%%\n"
    }
   },
   "outputs": [],
   "source": [
    "sample = 1\n",
    "\n",
    "print('Reference:', y[sample])\n",
    "print('Predicted:', y_predicted[sample])\n",
    "eli5.show_prediction(model, X.iloc[sample],\n",
    "                     feature_names=X.columns.tolist(), show_feature_values=True)"
   ]
  },
  {
   "cell_type": "code",
   "execution_count": null,
   "metadata": {
    "pycharm": {
     "is_executing": true,
     "name": "#%%\n"
    }
   },
   "outputs": [],
   "source": [
    "sample = 2\n",
    "\n",
    "print('Reference:', y[sample])\n",
    "print('Predicted:', y_predicted[sample])\n",
    "eli5.show_prediction(model, X.iloc[sample],\n",
    "                     feature_names=X.columns.tolist(), show_feature_values=True)"
   ]
  },
  {
   "cell_type": "code",
   "execution_count": null,
   "metadata": {
    "pycharm": {
     "is_executing": true,
     "name": "#%%\n"
    }
   },
   "outputs": [],
   "source": [
    "!pip install pdpbox\n",
    "from pdpbox import pdp, get_dataset, info_plots\n",
    "\n",
    "def plot_pdp(model, df, feature, cluster_flag=False, nb_clusters=None, lines_flag=False):\n",
    "\n",
    "    # Create the data that we will plot\n",
    "    pdp_goals = pdp.pdp_isolate(model=model, dataset=df, model_features=df.columns.tolist(), feature=feature)\n",
    "\n",
    "    # plot it\n",
    "    pdp.pdp_plot(pdp_goals, feature, cluster=cluster_flag, n_cluster_centers=nb_clusters, plot_lines=lines_flag)\n",
    "    plt.savefig('explanations/pdp/{0}_pdp.png'.format(feature))\n",
    "\n",
    "# plot the PD univariate plot for each feature\n",
    "for feature in X.columns:\n",
    "    plot_pdp(model, X, feature)\n",
    "\n",
    "# plot_pdp(model, X, 'capitalized_count')\n",
    "# plot_pdp(model, X, 'hashtags_count')"
   ]
  },
  {
   "cell_type": "code",
   "execution_count": null,
   "metadata": {
    "pycharm": {
     "is_executing": true,
     "name": "#%%\n"
    }
   },
   "outputs": [],
   "source": [
    "!pip install lime\n",
    "import lime.lime_tabular\n",
    "\n",
    "# Change the number below to test other instances\n",
    "sample = 1\n",
    "y_true = y[sample]\n",
    "y_pp = y_predicted[sample]\n",
    "explainer = lime.lime_tabular.LimeTabularExplainer(X.values,feature_names=X.columns.values.tolist()\n",
    "                                                   ,class_names=[0,1])\n",
    "predict_fn = lambda x: model.predict_proba(x).astype(float)\n",
    "explanation = explainer.explain_instance(X.values[sample], predict_fn, num_features=10)\n",
    "\n",
    "print('Reference:', y[sample])\n",
    "print('Predicted:', y_predicted[sample])\n",
    "explanation.show_in_notebook()"
   ]
  },
  {
   "cell_type": "code",
   "execution_count": null,
   "metadata": {
    "pycharm": {
     "is_executing": true,
     "name": "#%%\n"
    }
   },
   "outputs": [],
   "source": [
    "!pip install shap\n",
    "import shap\n",
    "\n",
    "# load JS visualization code to notebook\n",
    "shap.initjs()\n",
    "\n",
    "shap_explainer = shap.TreeExplainer(model)\n",
    "shap_values = shap_explainer.shap_values(X)\n",
    "\n",
    "print('Expected Value: ', shap_explainer.expected_value)\n",
    "shap.summary_plot(shap_values[1], X, plot_type=\"bar\", feature_names=vectorizer.vocabulary_)"
   ]
  },
  {
   "cell_type": "code",
   "execution_count": null,
   "metadata": {
    "pycharm": {
     "is_executing": true,
     "name": "#%%\n"
    }
   },
   "outputs": [],
   "source": [
    "# load JS visualization code to notebook\n",
    "\n",
    "shap.initjs()\n",
    "\n",
    "explainer = shap.TreeExplainer(model)\n",
    "shap_values = explainer.shap_values(X)\n",
    "\n",
    "# change the value below to change instance\n",
    "sample=1\n",
    "\n",
    "shap.force_plot(explainer.expected_value[1], shap_values[1][sample,:], X.iloc[sample,:], matplotlib=True)\n",
    "\n"
   ]
  },
  {
   "cell_type": "code",
   "execution_count": null,
   "metadata": {
    "pycharm": {
     "is_executing": true,
     "name": "#%%\n"
    }
   },
   "outputs": [],
   "source": [
    "shap.summary_plot(shap_values[1], X)\n"
   ]
  },
  {
   "cell_type": "code",
   "execution_count": null,
   "metadata": {
    "pycharm": {
     "is_executing": true,
     "name": "#%%\n"
    }
   },
   "outputs": [],
   "source": [
    "shap.initjs()\n",
    "feature = \"hashtags_count\"\n",
    "\n",
    "shap.dependence_plot(feature, shap_values[1], X,)"
   ]
  },
  {
   "cell_type": "code",
   "execution_count": null,
   "metadata": {
    "pycharm": {
     "is_executing": true,
     "name": "#%%\n"
    }
   },
   "outputs": [],
   "source": []
  },
  {
   "cell_type": "code",
   "execution_count": null,
   "metadata": {
    "pycharm": {
     "is_executing": true
    }
   },
   "outputs": [],
   "source": []
  }
 ],
 "metadata": {
  "kernelspec": {
   "display_name": "Python 3",
   "language": "python",
   "name": "python3"
  },
  "language_info": {
   "codemirror_mode": {
    "name": "ipython",
    "version": 3
   },
   "file_extension": ".py",
   "mimetype": "text/x-python",
   "name": "python",
   "nbconvert_exporter": "python",
   "pygments_lexer": "ipython3",
   "version": "3.8.6"
  }
 },
 "nbformat": 4,
 "nbformat_minor": 1
}